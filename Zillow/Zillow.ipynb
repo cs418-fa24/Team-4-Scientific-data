{
 "cells": [
  {
   "cell_type": "code",
   "execution_count": null,
   "id": "ef0de40c",
   "metadata": {},
   "outputs": [],
   "source": [
    "import pandas as pd\n",
    "import numpy as np\n",
    "import matplotlib.pyplot as plt\n",
    "import seaborn as sns"
   ]
  },
  {
   "cell_type": "code",
   "execution_count": null,
   "id": "9386328c",
   "metadata": {},
   "outputs": [],
   "source": [
    "\"\"\"\n",
    " The Zillow csv provides ZHVI for neighborhoods in the US.\n",
    " Zillow Home Value Index (ZHVI): A measure of the typical home value and market changes across a given region and housing type. \n",
    " It reflects the typical value for homes in the 35th to 65th percentile range.\n",
    " More info about ZHVI: https://www.zillow.com/research/methodology-neural-zhvi-32128/\n",
    "\"\"\"\n",
    "\n",
    "df = pd.read_csv('Neighborhood_zillow.csv')\n",
    "print(\"shape:\", df.shape)"
   ]
  },
  {
   "cell_type": "code",
   "execution_count": null,
   "id": "00b90ed3",
   "metadata": {},
   "outputs": [],
   "source": [
    "# print columns\n",
    "print(\"Columns:\")\n",
    "print(df.columns.to_list())\n",
    "\n",
    "chicago_df = df[df['City'] == \"Chicago\"]\n",
    "\n",
    "# Different neighborhoods\n",
    "print()\n",
    "print(\"Chicago neighborhoods:\")\n",
    "print(chicago_df['RegionName'].unique()[:15])\n",
    "\n",
    "# isolate Little Italy\n",
    "print()\n",
    "little_italy = chicago_df[chicago_df['RegionName'] == 'University Village - Little Italy']\n",
    "print(\"Little Italy 2000-01\", little_italy['2000-01-31'])\n",
    "print(\"Little Italy 2024-09\", little_italy['2024-09-30'])\n"
   ]
  },
  {
   "cell_type": "code",
   "execution_count": null,
   "id": "c2f1b84d",
   "metadata": {},
   "outputs": [],
   "source": [
    "# Unpivot date columns so data is more rectangular\n",
    "def reshape_dates(df):\n",
    "    # Identify date columns \n",
    "    date_columns = [col for col in df.columns if col.startswith('20')]\n",
    "    \n",
    "    # Melt dataframe to convert date columns into rows\n",
    "    df_melted = df.melt(id_vars=['RegionID', 'SizeRank', 'RegionName'],\n",
    "                        value_vars=date_columns,\n",
    "                        var_name='Date', value_name='ZHVI')\n",
    "    \n",
    "    # Convert Date to datetime fromat\n",
    "    df_melted['Date'] = pd.to_datetime(df_melted['Date'])\n",
    "\n",
    "    return df_melted\n",
    "\n",
    "reshaped_df = reshape_dates(chicago_df)\n",
    "reshaped_df.head()"
   ]
  },
  {
   "cell_type": "code",
   "execution_count": null,
   "id": "df3deea7",
   "metadata": {},
   "outputs": [],
   "source": [
    "# Filter for Lake View\n",
    "lake_view_df = reshaped_df[reshaped_df['RegionName'] == 'Lake View']\n",
    "\n",
    "# Plot ZHVI over time for Lake View\n",
    "plt.figure(figsize=(12, 6))\n",
    "sns.lineplot(x='Date', y='ZHVI', data=lake_view_df)\n",
    "plt.title(\"ZHVI Value Over Time for Lake View\")\n",
    "plt.xlabel(\"Date\")\n",
    "plt.ylabel(\"ZHVI\")\n",
    "plt.show()"
   ]
  },
  {
   "cell_type": "code",
   "execution_count": null,
   "id": "c9b3b9c8",
   "metadata": {},
   "outputs": [],
   "source": [
    "pd.read_csv('Chicago_ZIP_Populations_2010.csv')"
   ]
  },
  {
   "cell_type": "code",
   "execution_count": null,
   "id": "10616e97",
   "metadata": {},
   "outputs": [],
   "source": [
    "# Clean up populations csv's\n",
    "def clean_population(year):\n",
    "    filename = 'Chicago_ZIP_Populations_' + str(year) + '.csv'\n",
    "    df = pd.read_csv(filename)\n",
    "\n",
    "    # Transpose columns and rows\n",
    "    df = df.set_index('Label (Grouping)').transpose().reset_index()\n",
    "\n",
    "    # Rename columns\n",
    "    df.columns = ['Zip Code', 'Total']\n",
    "\n",
    "    # Remove prefix from Zip codes\n",
    "    df['Zip Code'] = df['Zip Code'].str[6:]\n",
    "    df['Year'] = year\n",
    "    \n",
    "    return df\n",
    "\n",
    "pop_2010 = clean_population(2010)\n",
    "pop_2020 = clean_population(2020)\n",
    "\n",
    "# Combine both years into one dataframe\n",
    "population_df = pd.concat([pop_2010, pop_2020], ignore_index=True)\n",
    "\n",
    "population_df"
   ]
  }
 ],
 "metadata": {
  "kernelspec": {
   "display_name": "base",
   "language": "python",
   "name": "python3"
  },
  "language_info": {
   "codemirror_mode": {
    "name": "ipython",
    "version": 3
   },
   "file_extension": ".py",
   "mimetype": "text/x-python",
   "name": "python",
   "nbconvert_exporter": "python",
   "pygments_lexer": "ipython3",
   "version": "3.12.4"
  }
 },
 "nbformat": 4,
 "nbformat_minor": 5
}
